{
 "cells": [
  {
   "cell_type": "code",
   "execution_count": null,
   "id": "b4f448be",
   "metadata": {},
   "outputs": [],
   "source": [
    "if input(\"Enter a day of the week. \") == 'Monday':\n",
    "    print('It\\'s Monday')\n",
    "else:\n",
    "    print('It\\'s not Monday')"
   ]
  },
  {
   "cell_type": "code",
   "execution_count": null,
   "id": "fa911e3d",
   "metadata": {},
   "outputs": [],
   "source": [
    "day= str(input(\"Enter a day Sunday - Saturday: \"))\n",
    "\n",
    "if (day=='Sunday'):\n",
    "    print(day,\"is a weekend\")\n",
    "elif (day=='Monday'):\n",
    "    print(day,\"is a weekday\")\n",
    "elif (day=='Tuesday'):\n",
    "    print(day,\"is a weekday\")\n",
    "elif (day=='Wednesday'):\n",
    "    print(day,\"is a weekday\")\n",
    "elif (day=='Thursday'):\n",
    "    print(day,\"is a weekday\")\n",
    "elif (day=='Friday'):\n",
    "    print(day,\"is a weekday\")\n",
    "elif (day=='Saturday'):\n",
    "    print(day,\"is a weekend\")\n",
    "else:\n",
    "    print(\"Wrong input. Please enter one of the seven days of the week capitalized.\")"
   ]
  },
  {
   "cell_type": "code",
   "execution_count": null,
   "id": "a98bbdd3",
   "metadata": {},
   "outputs": [],
   "source": [
    "\n",
    "def weeklyPaid(hours_worked, wage):\n",
    "    if hours_worked > 40:\n",
    "        return 40 * wage + (hours_worked - 40) * wage * 1.5\n",
    "    else:\n",
    "        return hours_worked * wage\n",
    "  \n",
    "  \n",
    "hours_worked = 50\n",
    "wage = 100\n",
    "  \n",
    "pay = weeklyPaid(hours_worked, wage)\n",
    "  \n",
    "print(f\"Total gross pay: Rs.{pay:.2f} \")"
   ]
  },
  {
   "cell_type": "code",
   "execution_count": null,
   "id": "d73b89c6",
   "metadata": {},
   "outputs": [],
   "source": [
    "it_is_raining = False\n",
    "\n",
    "if it_is_raining:\n",
    "    print('Better bring an umbrella!')\n",
    "else:\n",
    "    print('Looks like a nice, sunny day!')\n"
   ]
  },
  {
   "cell_type": "code",
   "execution_count": null,
   "id": "aa8b6812",
   "metadata": {},
   "outputs": [],
   "source": [
    "hourly_wages = True\n",
    "\n",
    "if hours_"
   ]
  },
  {
   "cell_type": "code",
   "execution_count": 7,
   "id": "850da4c7",
   "metadata": {},
   "outputs": [
    {
     "name": "stdout",
     "output_type": "stream",
     "text": [
      "[600, 1000]\n"
     ]
    }
   ],
   "source": [
    "hours_worked = [30, 50]\n",
    "hourly_wages = 20\n",
    "weekly_wages = [h * hourly_wages for h in hours_worked]\n",
    "print(weekly_wages)"
   ]
  },
  {
   "cell_type": "code",
   "execution_count": 9,
   "id": "4509d494",
   "metadata": {},
   "outputs": [
    {
     "name": "stdout",
     "output_type": "stream",
     "text": [
      "[600, 1000]\n"
     ]
    }
   ],
   "source": [
    "if hours_worked > [40]:\n",
    "    weekly_wages = [(h - 40) * hourly_wages for h in hours_worked]\n",
    "else:\n",
    "    weekly_wages = [h * hourly_wages for h in hours_worked]\n",
    "print(weekly_wages)"
   ]
  },
  {
   "cell_type": "code",
   "execution_count": null,
   "id": "0eec3ad1",
   "metadata": {},
   "outputs": [],
   "source": [
    "if hours_worked [(h - 40)]:\n",
    "    weekly_wages = [(h - 40) * hourly_wages for h in hours_worked]\n",
    "else:\n",
    "    weekly_wages = [h * hourly_wages for h in hours_worked]\n",
    "print(weekly_wages)"
   ]
  },
  {
   "cell_type": "code",
   "execution_count": 10,
   "id": "13381f7e",
   "metadata": {},
   "outputs": [
    {
     "name": "stdout",
     "output_type": "stream",
     "text": [
      "[-10, 10]\n"
     ]
    }
   ],
   "source": [
    "hours_worked = [h - 40 for h in hours_worked]\n",
    "print(hours_worked)"
   ]
  },
  {
   "cell_type": "code",
   "execution_count": 21,
   "id": "6c10f466",
   "metadata": {},
   "outputs": [
    {
     "data": {
      "text/plain": [
       "list"
      ]
     },
     "execution_count": 21,
     "metadata": {},
     "output_type": "execute_result"
    }
   ],
   "source": [
    "type(weekly_wages)"
   ]
  },
  {
   "cell_type": "code",
   "execution_count": 23,
   "id": "3aefba06",
   "metadata": {},
   "outputs": [
    {
     "ename": "TypeError",
     "evalue": "unsupported operand type(s) for -: 'list' and 'int'",
     "output_type": "error",
     "traceback": [
      "\u001b[0;31m---------------------------------------------------------------------------\u001b[0m",
      "\u001b[0;31mTypeError\u001b[0m                                 Traceback (most recent call last)",
      "\u001b[0;32m/var/folders/tg/c6tcjwk13mj583lxrf25k3jm0000gn/T/ipykernel_36404/1680526752.py\u001b[0m in \u001b[0;36m<module>\u001b[0;34m\u001b[0m\n\u001b[0;32m----> 1\u001b[0;31m \u001b[0;32mif\u001b[0m \u001b[0;34m[\u001b[0m\u001b[0;34m(\u001b[0m\u001b[0;34m[\u001b[0m\u001b[0mhours_worked\u001b[0m\u001b[0;34m]\u001b[0m \u001b[0;34m-\u001b[0m \u001b[0;36m40\u001b[0m\u001b[0;34m)\u001b[0m \u001b[0;32mfor\u001b[0m \u001b[0mhours_worked\u001b[0m \u001b[0;32min\u001b[0m \u001b[0mhours_worked\u001b[0m\u001b[0;34m]\u001b[0m \u001b[0;34m>\u001b[0m \u001b[0;36m0\u001b[0m\u001b[0;34m:\u001b[0m\u001b[0;34m\u001b[0m\u001b[0;34m\u001b[0m\u001b[0m\n\u001b[0m\u001b[1;32m      2\u001b[0m     \u001b[0mprint\u001b[0m\u001b[0;34m(\u001b[0m\u001b[0mhours_worked\u001b[0m\u001b[0;34m)\u001b[0m\u001b[0;34m\u001b[0m\u001b[0;34m\u001b[0m\u001b[0m\n",
      "\u001b[0;32m/var/folders/tg/c6tcjwk13mj583lxrf25k3jm0000gn/T/ipykernel_36404/1680526752.py\u001b[0m in \u001b[0;36m<listcomp>\u001b[0;34m(.0)\u001b[0m\n\u001b[0;32m----> 1\u001b[0;31m \u001b[0;32mif\u001b[0m \u001b[0;34m[\u001b[0m\u001b[0;34m(\u001b[0m\u001b[0;34m[\u001b[0m\u001b[0mhours_worked\u001b[0m\u001b[0;34m]\u001b[0m \u001b[0;34m-\u001b[0m \u001b[0;36m40\u001b[0m\u001b[0;34m)\u001b[0m \u001b[0;32mfor\u001b[0m \u001b[0mhours_worked\u001b[0m \u001b[0;32min\u001b[0m \u001b[0mhours_worked\u001b[0m\u001b[0;34m]\u001b[0m \u001b[0;34m>\u001b[0m \u001b[0;36m0\u001b[0m\u001b[0;34m:\u001b[0m\u001b[0;34m\u001b[0m\u001b[0;34m\u001b[0m\u001b[0m\n\u001b[0m\u001b[1;32m      2\u001b[0m     \u001b[0mprint\u001b[0m\u001b[0;34m(\u001b[0m\u001b[0mhours_worked\u001b[0m\u001b[0;34m)\u001b[0m\u001b[0;34m\u001b[0m\u001b[0;34m\u001b[0m\u001b[0m\n",
      "\u001b[0;31mTypeError\u001b[0m: unsupported operand type(s) for -: 'list' and 'int'"
     ]
    }
   ],
   "source": [
    "if [([hours_worked] - 40) for hours_worked in hours_worked] > 0:\n",
    "    print(hours_worked)"
   ]
  },
  {
   "cell_type": "code",
   "execution_count": null,
   "id": "da6950b4",
   "metadata": {},
   "outputs": [],
   "source": [
    "overtime = [o * wage * 1.5]"
   ]
  }
 ],
 "metadata": {
  "kernelspec": {
   "display_name": "Python 3 (ipykernel)",
   "language": "python",
   "name": "python3"
  },
  "language_info": {
   "codemirror_mode": {
    "name": "ipython",
    "version": 3
   },
   "file_extension": ".py",
   "mimetype": "text/x-python",
   "name": "python",
   "nbconvert_exporter": "python",
   "pygments_lexer": "ipython3",
   "version": "3.9.7"
  }
 },
 "nbformat": 4,
 "nbformat_minor": 5
}
