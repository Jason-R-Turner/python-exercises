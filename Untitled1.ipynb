{
 "cells": [
  {
   "cell_type": "code",
   "execution_count": null,
   "id": "ebd1e3d3",
   "metadata": {},
   "outputs": [],
   "source": [
    "password_lenght = len(password) >= 5\n",
    "username_length = len(isername) <=20\n",
    "password_not_same_as_username = username != password #you can have booleans inside variables\n",
    "username_spaces = username_length = username != username.strip() #to remove spaces in the username\n",
    "password_spaces = password_length = password != password.strip() #"
   ]
  }
 ],
 "metadata": {
  "kernelspec": {
   "display_name": "Python 3 (ipykernel)",
   "language": "python",
   "name": "python3"
  },
  "language_info": {
   "codemirror_mode": {
    "name": "ipython",
    "version": 3
   },
   "file_extension": ".py",
   "mimetype": "text/x-python",
   "name": "python",
   "nbconvert_exporter": "python",
   "pygments_lexer": "ipython3",
   "version": "3.9.7"
  }
 },
 "nbformat": 4,
 "nbformat_minor": 5
}
