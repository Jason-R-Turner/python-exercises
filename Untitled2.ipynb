{
 "cells": [
  {
   "cell_type": "code",
   "execution_count": null,
   "id": "280db764",
   "metadata": {},
   "outputs": [],
   "source": [
    "def normalize_name(name):\n",
    "    valid_py_id = ''\n",
    "    name = name.lower()\n",
    "    for char in name:\n",
    "        if char.isidentifier() or char == ' ':\n",
    "            valid_py_id += char\n",
    "    valid_py_id = valid_py_id.strip()\n",
    "    valid_py_id = valid_py_id.replace(' ', '_')\n",
    "    return valid_py_id\n",
    "\n",
    "normalize_name(\"  12Gar uda 3 \")"
   ]
  },
  {
   "cell_type": "code",
   "execution_count": null,
   "id": "e34b7f3a",
   "metadata": {},
   "outputs": [],
   "source": [
    "def cumulative_sum(ints):\n",
    "    cum_ints = []\n",
    "    for n in range(len(ints)):\n",
    "        num_sum = sum(ints[:1+n])\n",
    "        print(num_sum)\n",
    "        cum_ints.append(num_sum)\n",
    "    \n",
    "    return cum_ints\n",
    "\n",
    "print(cumulative_sum([1, 1, 1]))\n",
    "cumulative_sum([1, 2, 3, 4])\n",
    "\n",
    "# cumulative_sum([1, 1, 1]) returns [1, 2, 3]\n",
    "# cumulative_sum([1, 2, 3, 4]) returns [1, 3, 6, 10]"
   ]
  },
  {
   "cell_type": "code",
   "execution_count": null,
   "id": "7d9ef79b",
   "metadata": {},
   "outputs": [],
   "source": [
    "def handle_commas(comma_sep):\n",
    "    if type(comma_sep) != str:\n",
    "        return 'Must be a string'\n",
    "    comma_sep = comma_sep.replace(',', '')\n",
    "    if comma_sep.isdigit():\n",
    "        return float(comma_sep)\n",
    "    else:\n",
    "        return 'Must be an integer as a string'\n",
    "    \n",
    "handle_commas('123,456,789')"
   ]
  },
  {
   "cell_type": "code",
   "execution_count": 1,
   "id": "0b5d9770",
   "metadata": {},
   "outputs": [
    {
     "ename": "AttributeError",
     "evalue": "module 'matplotlib' has no attribute 'plot'",
     "output_type": "error",
     "traceback": [
      "\u001b[0;31m---------------------------------------------------------------------------\u001b[0m",
      "\u001b[0;31mAttributeError\u001b[0m                            Traceback (most recent call last)",
      "\u001b[0;32m/var/folders/tg/c6tcjwk13mj583lxrf25k3jm0000gn/T/ipykernel_12776/2475059010.py\u001b[0m in \u001b[0;36m<module>\u001b[0;34m\u001b[0m\n\u001b[1;32m      3\u001b[0m \u001b[0mx\u001b[0m \u001b[0;34m=\u001b[0m \u001b[0;34m[\u001b[0m\u001b[0;36m1\u001b[0m\u001b[0;34m,\u001b[0m\u001b[0;36m2\u001b[0m\u001b[0;34m,\u001b[0m\u001b[0;36m4\u001b[0m\u001b[0;34m,\u001b[0m\u001b[0;36m6\u001b[0m\u001b[0;34m,\u001b[0m\u001b[0;36m7\u001b[0m\u001b[0;34m]\u001b[0m\u001b[0;34m\u001b[0m\u001b[0;34m\u001b[0m\u001b[0m\n\u001b[1;32m      4\u001b[0m \u001b[0;34m\u001b[0m\u001b[0m\n\u001b[0;32m----> 5\u001b[0;31m \u001b[0mplt\u001b[0m\u001b[0;34m.\u001b[0m\u001b[0mplot\u001b[0m\u001b[0;34m(\u001b[0m\u001b[0mx\u001b[0m\u001b[0;34m)\u001b[0m\u001b[0;34m\u001b[0m\u001b[0;34m\u001b[0m\u001b[0m\n\u001b[0m",
      "\u001b[0;31mAttributeError\u001b[0m: module 'matplotlib' has no attribute 'plot'"
     ]
    }
   ],
   "source": [
    "import matplotlib as plt\n",
    "\n",
    "x = [1,2,4,6,7]\n",
    "\n",
    "plt.plot(x)"
   ]
  },
  {
   "cell_type": "code",
   "execution_count": null,
   "id": "cfd6ab48",
   "metadata": {},
   "outputs": [],
   "source": []
  }
 ],
 "metadata": {
  "kernelspec": {
   "display_name": "Python 3 (ipykernel)",
   "language": "python",
   "name": "python3"
  },
  "language_info": {
   "codemirror_mode": {
    "name": "ipython",
    "version": 3
   },
   "file_extension": ".py",
   "mimetype": "text/x-python",
   "name": "python",
   "nbconvert_exporter": "python",
   "pygments_lexer": "ipython3",
   "version": "3.9.7"
  }
 },
 "nbformat": 4,
 "nbformat_minor": 5
}
