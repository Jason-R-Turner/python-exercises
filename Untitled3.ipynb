{
 "cells": [
  {
   "cell_type": "code",
   "execution_count": 1,
   "id": "c93043bb",
   "metadata": {},
   "outputs": [
    {
     "name": "stdout",
     "output_type": "stream",
     "text": [
      "True\n",
      "True\n",
      "False\n",
      "Not a consonant.\n",
      "10.0% tip\n",
      "$75.0\n",
      "[1, 2, 3]\n"
     ]
    },
    {
     "ename": "ModuleNotFoundError",
     "evalue": "No module named 'function_exercises.is_vowel'; 'function_exercises' is not a package",
     "output_type": "error",
     "traceback": [
      "\u001b[0;31m---------------------------------------------------------------------------\u001b[0m",
      "\u001b[0;31mModuleNotFoundError\u001b[0m                       Traceback (most recent call last)",
      "\u001b[0;32m/var/folders/tg/c6tcjwk13mj583lxrf25k3jm0000gn/T/ipykernel_10184/1657965443.py\u001b[0m in \u001b[0;36m<module>\u001b[0;34m\u001b[0m\n\u001b[1;32m      2\u001b[0m \u001b[0;34m\u001b[0m\u001b[0m\n\u001b[1;32m      3\u001b[0m \u001b[0;31m# Run an interactive python session and import the module. Call the is_vowel function using the . syntax.\u001b[0m\u001b[0;34m\u001b[0m\u001b[0;34m\u001b[0m\u001b[0m\n\u001b[0;32m----> 4\u001b[0;31m \u001b[0;32mimport\u001b[0m \u001b[0mfunction_exercises\u001b[0m\u001b[0;34m.\u001b[0m\u001b[0mis_vowel\u001b[0m\u001b[0;34m\u001b[0m\u001b[0;34m\u001b[0m\u001b[0m\n\u001b[0m\u001b[1;32m      5\u001b[0m \u001b[0;34m\u001b[0m\u001b[0m\n\u001b[1;32m      6\u001b[0m \u001b[0;31m# Create a file named import_exericses.py. Within this file, use from to import the calculate_tip function directly. Call this function with values you choose and print the result.\u001b[0m\u001b[0;34m\u001b[0m\u001b[0;34m\u001b[0m\u001b[0m\n",
      "\u001b[0;31mModuleNotFoundError\u001b[0m: No module named 'function_exercises.is_vowel'; 'function_exercises' is not a package"
     ]
    }
   ],
   "source": [
    "# 1. Import and test 3 of the functions from your functions exercise file. Import each function in a different way:\n",
    "\n",
    "# Run an interactive python session and import the module. Call the is_vowel function using the . syntax.\n",
    "import function_exercises.is_vowel \n",
    "\n",
    "# Create a file named import_exericses.py. Within this file, use from to import the calculate_tip function directly. Call this function with values you choose and print the result.\n",
    "# Create a jupyter notebook named import_exercises.ipynb. Use from to import the get_letter_grade function and give it an alias. Test this function in your notebook.\n",
    "# Make sure your code that tests the function imports is run from the same directory that your functions exercise file is in.\n",
    "\n",
    "# 2. Read about and use the itertools module from the python standard library to help you solve the following problems:\n",
    "\n",
    "# How many different ways can you combine the letters from \"abc\" with the numbers 1, 2, and 3?\n",
    "# How many different combinations are there of 2 letters from \"abcd\"?\n",
    "# How many different permutations are there of 2 letters from \"abcd\"?\n",
    "# 3. Save this file as profiles.json inside of your exercises directory (right click -> save file as...).\n",
    "\n",
    "# Use the load function from the json module to open this file.\n",
    "\n",
    "\n",
    "# import json\n",
    "\n",
    "# json.load(open('profiles.json'))\n",
    "# Your code should produce a list of dictionaries. Using this data, write some code that calculates and outputs the following information:\n",
    "\n",
    "# Total number of users\n",
    "# Number of active users\n",
    "# Number of inactive users\n",
    "# Grand total of balances for all users\n",
    "# Average balance per user\n",
    "# User with the lowest balance\n",
    "# User with the highest balance\n",
    "# Most common favorite fruit\n",
    "# Least most common favorite fruit\n",
    "# Total number of unread messages for all users"
   ]
  }
 ],
 "metadata": {
  "kernelspec": {
   "display_name": "Python 3 (ipykernel)",
   "language": "python",
   "name": "python3"
  },
  "language_info": {
   "codemirror_mode": {
    "name": "ipython",
    "version": 3
   },
   "file_extension": ".py",
   "mimetype": "text/x-python",
   "name": "python",
   "nbconvert_exporter": "python",
   "pygments_lexer": "ipython3",
   "version": "3.9.7"
  }
 },
 "nbformat": 4,
 "nbformat_minor": 5
}
