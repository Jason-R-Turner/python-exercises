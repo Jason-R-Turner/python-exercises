{
 "cells": [
  {
   "cell_type": "code",
   "execution_count": 3,
   "id": "3d278716",
   "metadata": {},
   "outputs": [],
   "source": [
    "len?"
   ]
  },
  {
   "cell_type": "code",
   "execution_count": 5,
   "id": "463f67f9",
   "metadata": {},
   "outputs": [
    {
     "data": {
      "text/plain": [
       "'adam gomez'"
      ]
     },
     "execution_count": 5,
     "metadata": {},
     "output_type": "execute_result"
    }
   ],
   "source": [
    "#concatenation\n",
    "'adam' + ' ' + 'gomez'"
   ]
  },
  {
   "cell_type": "code",
   "execution_count": 7,
   "id": "2a8f8a90",
   "metadata": {},
   "outputs": [
    {
     "data": {
      "text/plain": [
       "'abcabcabc'"
      ]
     },
     "execution_count": 7,
     "metadata": {},
     "output_type": "execute_result"
    }
   ],
   "source": [
    "'abc' * 3"
   ]
  },
  {
   "cell_type": "code",
   "execution_count": 9,
   "id": "7d78a4e6",
   "metadata": {},
   "outputs": [
    {
     "ename": "TypeError",
     "evalue": "can only concatenate str (not \"int\") to str",
     "output_type": "error",
     "traceback": [
      "\u001b[0;31m---------------------------------------------------------------------------\u001b[0m",
      "\u001b[0;31mTypeError\u001b[0m                                 Traceback (most recent call last)",
      "\u001b[0;32m/var/folders/tg/c6tcjwk13mj583lxrf25k3jm0000gn/T/ipykernel_21911/1877764962.py\u001b[0m in \u001b[0;36m<module>\u001b[0;34m\u001b[0m\n\u001b[0;32m----> 1\u001b[0;31m \u001b[0;34m'2'\u001b[0m \u001b[0;34m+\u001b[0m \u001b[0;36m1\u001b[0m\u001b[0;34m\u001b[0m\u001b[0;34m\u001b[0m\u001b[0m\n\u001b[0m",
      "\u001b[0;31mTypeError\u001b[0m: can only concatenate str (not \"int\") to str"
     ]
    }
   ],
   "source": [
    "'2' + 1"
   ]
  },
  {
   "cell_type": "code",
   "execution_count": 11,
   "id": "5cea03cf",
   "metadata": {},
   "outputs": [
    {
     "data": {
      "text/plain": [
       "'21'"
      ]
     },
     "execution_count": 11,
     "metadata": {},
     "output_type": "execute_result"
    }
   ],
   "source": [
    "'2' + str(1)"
   ]
  },
  {
   "cell_type": "code",
   "execution_count": 12,
   "id": "679a7dda",
   "metadata": {},
   "outputs": [
    {
     "data": {
      "text/plain": [
       "3"
      ]
     },
     "execution_count": 12,
     "metadata": {},
     "output_type": "execute_result"
    }
   ],
   "source": [
    "int('2') + 1"
   ]
  },
  {
   "cell_type": "code",
   "execution_count": 14,
   "id": "880013fe",
   "metadata": {},
   "outputs": [
    {
     "ename": "ValueError",
     "evalue": "invalid literal for int() with base 10: '2.123'",
     "output_type": "error",
     "traceback": [
      "\u001b[0;31m---------------------------------------------------------------------------\u001b[0m",
      "\u001b[0;31mValueError\u001b[0m                                Traceback (most recent call last)",
      "\u001b[0;32m/var/folders/tg/c6tcjwk13mj583lxrf25k3jm0000gn/T/ipykernel_21911/3464786114.py\u001b[0m in \u001b[0;36m<module>\u001b[0;34m\u001b[0m\n\u001b[0;32m----> 1\u001b[0;31m \u001b[0mint\u001b[0m\u001b[0;34m(\u001b[0m\u001b[0;34m'2.123'\u001b[0m\u001b[0;34m)\u001b[0m\u001b[0;34m\u001b[0m\u001b[0;34m\u001b[0m\u001b[0m\n\u001b[0m",
      "\u001b[0;31mValueError\u001b[0m: invalid literal for int() with base 10: '2.123'"
     ]
    }
   ],
   "source": [
    "int('2.123')\n",
    "#Python can't convert a float value to an integer"
   ]
  },
  {
   "cell_type": "markdown",
   "id": "d122327e",
   "metadata": {},
   "source": [
    "## String Formatting"
   ]
  },
  {
   "cell_type": "code",
   "execution_count": 15,
   "id": "1c6a7011",
   "metadata": {},
   "outputs": [],
   "source": [
    "name = \"World\""
   ]
  },
  {
   "cell_type": "code",
   "execution_count": 17,
   "id": "268d93bc",
   "metadata": {},
   "outputs": [
    {
     "data": {
      "text/plain": [
       "'Hellow, World!'"
      ]
     },
     "execution_count": 17,
     "metadata": {},
     "output_type": "execute_result"
    }
   ],
   "source": [
    "'Hellow, %s!' % name"
   ]
  },
  {
   "cell_type": "code",
   "execution_count": 19,
   "id": "7a544d9f",
   "metadata": {},
   "outputs": [
    {
     "data": {
      "text/plain": [
       "'Hello, World!'"
      ]
     },
     "execution_count": 19,
     "metadata": {},
     "output_type": "execute_result"
    }
   ],
   "source": [
    "'Hello, {}!' .format(name)"
   ]
  },
  {
   "cell_type": "code",
   "execution_count": 22,
   "id": "8d27d88e",
   "metadata": {},
   "outputs": [
    {
     "data": {
      "text/plain": [
       "'Hello World!'"
      ]
     },
     "execution_count": 22,
     "metadata": {},
     "output_type": "execute_result"
    }
   ],
   "source": [
    "f'Hello {name}!'"
   ]
  },
  {
   "cell_type": "code",
   "execution_count": 23,
   "id": "b8b2c0fd",
   "metadata": {},
   "outputs": [],
   "source": [
    "number = 10"
   ]
  },
  {
   "cell_type": "code",
   "execution_count": 26,
   "id": "a1466eff",
   "metadata": {},
   "outputs": [
    {
     "data": {
      "text/plain": [
       "'Hello 10'"
      ]
     },
     "execution_count": 26,
     "metadata": {},
     "output_type": "execute_result"
    }
   ],
   "source": [
    "f'Hello {number}'"
   ]
  },
  {
   "cell_type": "code",
   "execution_count": 28,
   "id": "26a2b27a",
   "metadata": {},
   "outputs": [
    {
     "data": {
      "text/plain": [
       "'Hello 10'"
      ]
     },
     "execution_count": 28,
     "metadata": {},
     "output_type": "execute_result"
    }
   ],
   "source": [
    "f'Hello {str(number)}'"
   ]
  },
  {
   "cell_type": "markdown",
   "id": "aef53dea",
   "metadata": {},
   "source": [
    "## String methods and indexing"
   ]
  },
  {
   "cell_type": "code",
   "execution_count": 29,
   "id": "2fa25a1d",
   "metadata": {},
   "outputs": [],
   "source": [
    "# function is going to be listed first with () following\n",
    "# method is going to be listed last with .method"
   ]
  },
  {
   "cell_type": "code",
   "execution_count": 30,
   "id": "a7dbda4c",
   "metadata": {},
   "outputs": [
    {
     "data": {
      "text/plain": [
       "'1'"
      ]
     },
     "execution_count": 30,
     "metadata": {},
     "output_type": "execute_result"
    }
   ],
   "source": [
    "# function\n",
    "str(1)"
   ]
  },
  {
   "cell_type": "code",
   "execution_count": 35,
   "id": "aaf8d2ea",
   "metadata": {},
   "outputs": [],
   "source": [
    "s = '   Hello, Codeup!    '"
   ]
  },
  {
   "cell_type": "code",
   "execution_count": 36,
   "id": "dad0ae2f",
   "metadata": {},
   "outputs": [
    {
     "data": {
      "text/plain": [
       "'   hello, codeup!    '"
      ]
     },
     "execution_count": 36,
     "metadata": {},
     "output_type": "execute_result"
    }
   ],
   "source": [
    "s.lower()"
   ]
  },
  {
   "cell_type": "code",
   "execution_count": 34,
   "id": "b9e23278",
   "metadata": {},
   "outputs": [
    {
     "ename": "NameError",
     "evalue": "name 'lower' is not defined",
     "output_type": "error",
     "traceback": [
      "\u001b[0;31m---------------------------------------------------------------------------\u001b[0m",
      "\u001b[0;31mNameError\u001b[0m                                 Traceback (most recent call last)",
      "\u001b[0;32m/var/folders/tg/c6tcjwk13mj583lxrf25k3jm0000gn/T/ipykernel_21911/3600325113.py\u001b[0m in \u001b[0;36m<module>\u001b[0;34m\u001b[0m\n\u001b[0;32m----> 1\u001b[0;31m \u001b[0mlower\u001b[0m\u001b[0;34m(\u001b[0m\u001b[0ms\u001b[0m\u001b[0;34m)\u001b[0m\u001b[0;34m\u001b[0m\u001b[0;34m\u001b[0m\u001b[0m\n\u001b[0m",
      "\u001b[0;31mNameError\u001b[0m: name 'lower' is not defined"
     ]
    }
   ],
   "source": [
    "lower(s)"
   ]
  },
  {
   "cell_type": "code",
   "execution_count": 38,
   "id": "05dc3416",
   "metadata": {},
   "outputs": [
    {
     "data": {
      "text/plain": [
       "'Hello, Codeup!'"
      ]
     },
     "execution_count": 38,
     "metadata": {},
     "output_type": "execute_result"
    }
   ],
   "source": [
    "s.strip()"
   ]
  },
  {
   "cell_type": "code",
   "execution_count": 39,
   "id": "156c54d3",
   "metadata": {},
   "outputs": [
    {
     "data": {
      "text/plain": [
       "False"
      ]
     },
     "execution_count": 39,
     "metadata": {},
     "output_type": "execute_result"
    }
   ],
   "source": [
    "s.isdigit()\n",
    "# checks to see if string is a digit"
   ]
  },
  {
   "cell_type": "code",
   "execution_count": 40,
   "id": "0103e3b1",
   "metadata": {},
   "outputs": [
    {
     "data": {
      "text/plain": [
       "True"
      ]
     },
     "execution_count": 40,
     "metadata": {},
     "output_type": "execute_result"
    }
   ],
   "source": [
    "'123'.isdigit()"
   ]
  },
  {
   "cell_type": "code",
   "execution_count": 42,
   "id": "864df979",
   "metadata": {},
   "outputs": [
    {
     "data": {
      "text/plain": [
       "['Hello', 'Codeup!']"
      ]
     },
     "execution_count": 42,
     "metadata": {},
     "output_type": "execute_result"
    }
   ],
   "source": [
    "s.strip().split(', ')\n",
    "# it converts our string into two pieces and made them part of a list indicated by the brackets separated by the \", \" delimiter"
   ]
  },
  {
   "cell_type": "code",
   "execution_count": 43,
   "id": "5053caf1",
   "metadata": {},
   "outputs": [
    {
     "data": {
      "text/plain": [
       "'one, two, three'"
      ]
     },
     "execution_count": 43,
     "metadata": {},
     "output_type": "execute_result"
    }
   ],
   "source": [
    "(', ').join(['one', 'two', 'three'])"
   ]
  },
  {
   "cell_type": "markdown",
   "id": "296f56e5",
   "metadata": {},
   "source": [
    "## Lists and list operations"
   ]
  },
  {
   "cell_type": "code",
   "execution_count": 49,
   "id": "f6a1f440",
   "metadata": {},
   "outputs": [],
   "source": [
    "storage_box = []\n",
    "for each_number in [1, 2, 3, 4, 5, 6, 7]:\n",
    "    storage_box.append('box')"
   ]
  },
  {
   "cell_type": "code",
   "execution_count": 50,
   "id": "74149dd8",
   "metadata": {},
   "outputs": [
    {
     "data": {
      "text/plain": [
       "['box', 'box', 'box', 'box', 'box', 'box', 'box']"
      ]
     },
     "execution_count": 50,
     "metadata": {},
     "output_type": "execute_result"
    }
   ],
   "source": [
    "storage_box"
   ]
  },
  {
   "cell_type": "markdown",
   "id": "29e48379",
   "metadata": {},
   "source": [
    "## List Comprehensions"
   ]
  },
  {
   "cell_type": "code",
   "execution_count": 51,
   "id": "7b5b6490",
   "metadata": {},
   "outputs": [],
   "source": [
    "storage_box2 = ['box' for each_number in range(7)]"
   ]
  },
  {
   "cell_type": "code",
   "execution_count": 52,
   "id": "f5df5164",
   "metadata": {},
   "outputs": [
    {
     "data": {
      "text/plain": [
       "[0, 1, 2, 3, 4, 5, 6]"
      ]
     },
     "execution_count": 52,
     "metadata": {},
     "output_type": "execute_result"
    }
   ],
   "source": [
    "list(range(7))"
   ]
  },
  {
   "cell_type": "code",
   "execution_count": 53,
   "id": "fc3c36f7",
   "metadata": {},
   "outputs": [
    {
     "data": {
      "text/plain": [
       "['box', 'box', 'box', 'box', 'box', 'box', 'box']"
      ]
     },
     "execution_count": 53,
     "metadata": {},
     "output_type": "execute_result"
    }
   ],
   "source": [
    "storage_box2"
   ]
  },
  {
   "cell_type": "code",
   "execution_count": 54,
   "id": "81cfa261",
   "metadata": {},
   "outputs": [],
   "source": [
    "storage_box3 = ['box' for each_element in ['1', '2', 123, 1.245, 'sting', ['1', 2], 0]]"
   ]
  },
  {
   "cell_type": "code",
   "execution_count": 55,
   "id": "f4ce8923",
   "metadata": {},
   "outputs": [
    {
     "data": {
      "text/plain": [
       "['box', 'box', 'box', 'box', 'box', 'box', 'box']"
      ]
     },
     "execution_count": 55,
     "metadata": {},
     "output_type": "execute_result"
    }
   ],
   "source": [
    "storage_box3"
   ]
  },
  {
   "cell_type": "code",
   "execution_count": 56,
   "id": "9c51a8d7",
   "metadata": {},
   "outputs": [],
   "source": [
    "storage_box4 = ['box' for beans in ['1', '2', 123, 1.245, 'sting', ['1', 2], 0]]\n",
    "# for a brief moment it labels it to the value given after \"for\".  It doesn't matter what you call it"
   ]
  },
  {
   "cell_type": "code",
   "execution_count": 57,
   "id": "86d5e130",
   "metadata": {},
   "outputs": [
    {
     "data": {
      "text/plain": [
       "['box', 'box', 'box', 'box', 'box', 'box', 'box']"
      ]
     },
     "execution_count": 57,
     "metadata": {},
     "output_type": "execute_result"
    }
   ],
   "source": [
    "storage_box4"
   ]
  },
  {
   "cell_type": "code",
   "execution_count": 59,
   "id": "c87d8620",
   "metadata": {},
   "outputs": [],
   "source": [
    "storage_box5 = ['box' for  n in range(7)]"
   ]
  },
  {
   "cell_type": "code",
   "execution_count": 60,
   "id": "2ae86bfa",
   "metadata": {},
   "outputs": [
    {
     "data": {
      "text/plain": [
       "['box', 'box', 'box', 'box', 'box', 'box', 'box']"
      ]
     },
     "execution_count": 60,
     "metadata": {},
     "output_type": "execute_result"
    }
   ],
   "source": [
    "storage_box5"
   ]
  },
  {
   "cell_type": "code",
   "execution_count": 63,
   "id": "d5820c4d",
   "metadata": {},
   "outputs": [],
   "source": [
    "storage_box5 = [n * 2 for  n in range(7)]\n",
    "# it goes off the original values for range(7) 0, 1, 2, 3, 4, 5, 6"
   ]
  },
  {
   "cell_type": "code",
   "execution_count": 64,
   "id": "cf9394a9",
   "metadata": {},
   "outputs": [
    {
     "data": {
      "text/plain": [
       "[0, 2, 4, 6, 8, 10, 12]"
      ]
     },
     "execution_count": 64,
     "metadata": {},
     "output_type": "execute_result"
    }
   ],
   "source": [
    "storage_box5"
   ]
  },
  {
   "cell_type": "code",
   "execution_count": 67,
   "id": "d0aefe7b",
   "metadata": {},
   "outputs": [],
   "source": [
    "storage_box6 = ['box' * 2 for n in range(7)]"
   ]
  },
  {
   "cell_type": "code",
   "execution_count": 69,
   "id": "c607eb8f",
   "metadata": {},
   "outputs": [
    {
     "data": {
      "text/plain": [
       "['boxbox', 'boxbox', 'boxbox', 'boxbox', 'boxbox', 'boxbox', 'boxbox']"
      ]
     },
     "execution_count": 69,
     "metadata": {},
     "output_type": "execute_result"
    }
   ],
   "source": [
    "storage_box6"
   ]
  },
  {
   "cell_type": "markdown",
   "id": "9c38b075",
   "metadata": {},
   "source": [
    "## List Operations"
   ]
  },
  {
   "cell_type": "code",
   "execution_count": 70,
   "id": "adc24d5d",
   "metadata": {},
   "outputs": [],
   "source": [
    "numbers = [1, 2, 3]"
   ]
  },
  {
   "cell_type": "code",
   "execution_count": 71,
   "id": "58caf0e7",
   "metadata": {},
   "outputs": [
    {
     "data": {
      "text/plain": [
       "[1, 2, 3, 4]"
      ]
     },
     "execution_count": 71,
     "metadata": {},
     "output_type": "execute_result"
    }
   ],
   "source": [
    "numbers.append(4)\n",
    "numbers"
   ]
  },
  {
   "cell_type": "code",
   "execution_count": 72,
   "id": "0679053c",
   "metadata": {},
   "outputs": [
    {
     "data": {
      "text/plain": [
       "[1, 2, 3]"
      ]
     },
     "execution_count": 72,
     "metadata": {},
     "output_type": "execute_result"
    }
   ],
   "source": [
    "numbers.pop()\n",
    "numbers\n",
    "# removes the last number"
   ]
  },
  {
   "cell_type": "code",
   "execution_count": 73,
   "id": "0e0e145f",
   "metadata": {},
   "outputs": [
    {
     "data": {
      "text/plain": [
       "[1, 2]"
      ]
     },
     "execution_count": 73,
     "metadata": {},
     "output_type": "execute_result"
    }
   ],
   "source": [
    "numbers.pop(2)\n",
    "numbers"
   ]
  },
  {
   "cell_type": "code",
   "execution_count": 75,
   "id": "7a7a515e",
   "metadata": {},
   "outputs": [
    {
     "data": {
      "text/plain": [
       "2"
      ]
     },
     "execution_count": 75,
     "metadata": {},
     "output_type": "execute_result"
    }
   ],
   "source": [
    "removed_element = numbers.pop()\n",
    "removed_element"
   ]
  },
  {
   "cell_type": "code",
   "execution_count": 76,
   "id": "1e5e6767",
   "metadata": {},
   "outputs": [
    {
     "data": {
      "text/plain": [
       "[1]"
      ]
     },
     "execution_count": 76,
     "metadata": {},
     "output_type": "execute_result"
    }
   ],
   "source": [
    "numbers"
   ]
  },
  {
   "cell_type": "code",
   "execution_count": null,
   "id": "50239580",
   "metadata": {},
   "outputs": [],
   "source": []
  }
 ],
 "metadata": {
  "kernelspec": {
   "display_name": "Python 3 (ipykernel)",
   "language": "python",
   "name": "python3"
  },
  "language_info": {
   "codemirror_mode": {
    "name": "ipython",
    "version": 3
   },
   "file_extension": ".py",
   "mimetype": "text/x-python",
   "name": "python",
   "nbconvert_exporter": "python",
   "pygments_lexer": "ipython3",
   "version": "3.9.7"
  }
 },
 "nbformat": 4,
 "nbformat_minor": 5
}
